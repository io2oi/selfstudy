{
 "cells": [
  {
   "cell_type": "markdown",
   "metadata": {
    "slideshow": {
     "slide_type": "slide"
    }
   },
   "source": [
    "# 이 문서는 [연결](http://tutorials.iq.harvard.edu/R/Rgraphics/Rgraphics.html) 의 내용을 실습해본 문서이다."
   ]
  },
  {
   "cell_type": "markdown",
   "metadata": {
    "slideshow": {
     "slide_type": "slide"
    }
   },
   "source": [
    "## 첫 번째 예제\n",
    "```r\n",
    "housing <- read.csv(\"Rgraphics/dataSets/landdata-states.csv\")\n",
    "head(housing[1:5])\n",
    "```"
   ]
  },
  {
   "cell_type": "code",
   "execution_count": 1,
   "metadata": {
    "collapsed": false,
    "slideshow": {
     "slide_type": "fragment"
    }
   },
   "outputs": [
    {
     "data": {
      "text/html": [
       "<table>\n",
       "<thead><tr><th></th><th scope=col>State</th><th scope=col>region</th><th scope=col>Date</th><th scope=col>Home.Value</th><th scope=col>Structure.Cost</th></tr></thead>\n",
       "<tbody>\n",
       "\t<tr><th scope=row>1</th><td>AK    </td><td>West  </td><td>20101 </td><td>224952</td><td>160599</td></tr>\n",
       "\t<tr><th scope=row>2</th><td>AK    </td><td>West  </td><td>20102 </td><td>225511</td><td>160252</td></tr>\n",
       "\t<tr><th scope=row>3</th><td>AK    </td><td>West  </td><td>20093 </td><td>225820</td><td>163791</td></tr>\n",
       "\t<tr><th scope=row>4</th><td>AK    </td><td>West  </td><td>20094 </td><td>224994</td><td>161787</td></tr>\n",
       "\t<tr><th scope=row>5</th><td>AK    </td><td>West  </td><td>20074 </td><td>234590</td><td>155400</td></tr>\n",
       "\t<tr><th scope=row>6</th><td>AK    </td><td>West  </td><td>20081 </td><td>233714</td><td>157458</td></tr>\n",
       "</tbody>\n",
       "</table>\n"
      ],
      "text/latex": [
       "\\begin{tabular}{r|lllll}\n",
       "  & State & region & Date & Home.Value & Structure.Cost\\\\\n",
       "\\hline\n",
       "\t1 & AK     & West   & 20101  & 224952 & 160599\\\\\n",
       "\t2 & AK     & West   & 20102  & 225511 & 160252\\\\\n",
       "\t3 & AK     & West   & 20093  & 225820 & 163791\\\\\n",
       "\t4 & AK     & West   & 20094  & 224994 & 161787\\\\\n",
       "\t5 & AK     & West   & 20074  & 234590 & 155400\\\\\n",
       "\t6 & AK     & West   & 20081  & 233714 & 157458\\\\\n",
       "\\end{tabular}\n"
      ],
      "text/plain": [
       "  State region  Date Home.Value Structure.Cost\n",
       "1    AK   West 20101     224952         160599\n",
       "2    AK   West 20102     225511         160252\n",
       "3    AK   West 20093     225820         163791\n",
       "4    AK   West 20094     224994         161787\n",
       "5    AK   West 20074     234590         155400\n",
       "6    AK   West 20081     233714         157458"
      ]
     },
     "metadata": {},
     "output_type": "display_data"
    }
   ],
   "source": [
    "housing <- read.csv(\"Rgraphics/dataSets/landdata-states.csv\")\n",
    "head(housing[1:5])"
   ]
  },
  {
   "cell_type": "markdown",
   "metadata": {
    "slideshow": {
     "slide_type": "slide"
    }
   },
   "source": [
    "계속\n",
    "```r\n",
    "housing$Year <- as.numeric(substr(housing$Date, 1, 4))\n",
    "housing$Qrtr <- as.numeric(substr(housing$Date, 5, 5))\n",
    "housing$Date <- housing$Year + housing$Qrtr/4\n",
    "```"
   ]
  },
  {
   "cell_type": "code",
   "execution_count": 2,
   "metadata": {
    "collapsed": false,
    "slideshow": {
     "slide_type": "fragment"
    }
   },
   "outputs": [
    {
     "data": {
      "text/html": [
       "<table>\n",
       "<thead><tr><th></th><th scope=col>State</th><th scope=col>region</th><th scope=col>Date</th><th scope=col>Home.Value</th><th scope=col>Structure.Cost</th><th scope=col>Land.Value</th><th scope=col>Land.Share..Pct.</th><th scope=col>Home.Price.Index</th><th scope=col>Land.Price.Index</th><th scope=col>Year</th><th scope=col>Qrtr</th></tr></thead>\n",
       "<tbody>\n",
       "\t<tr><th scope=row>1</th><td>AK     </td><td>West   </td><td>2010.25</td><td>224952 </td><td>160599 </td><td>64352  </td><td>28.6   </td><td>1.481  </td><td>1.552  </td><td>2010   </td><td>1      </td></tr>\n",
       "\t<tr><th scope=row>2</th><td>AK    </td><td>West  </td><td>2010.5</td><td>225511</td><td>160252</td><td>65259 </td><td>28.9  </td><td>1.484 </td><td>1.576 </td><td>2010  </td><td>2     </td></tr>\n",
       "\t<tr><th scope=row>3</th><td>AK     </td><td>West   </td><td>2009.75</td><td>225820 </td><td>163791 </td><td>62029  </td><td>27.5   </td><td>1.486  </td><td>1.494  </td><td>2009   </td><td>3      </td></tr>\n",
       "\t<tr><th scope=row>4</th><td>AK    </td><td>West  </td><td>2010  </td><td>224994</td><td>161787</td><td>63207 </td><td>28.1  </td><td>1.481 </td><td>1.524 </td><td>2009  </td><td>4     </td></tr>\n",
       "\t<tr><th scope=row>5</th><td>AK    </td><td>West  </td><td>2008  </td><td>234590</td><td>155400</td><td>79190 </td><td>33.8  </td><td>1.544 </td><td>1.885 </td><td>2007  </td><td>4     </td></tr>\n",
       "\t<tr><th scope=row>6</th><td>AK     </td><td>West   </td><td>2008.25</td><td>233714 </td><td>157458 </td><td>76256  </td><td>32.6   </td><td>1.538  </td><td>1.817  </td><td>2008   </td><td>1      </td></tr>\n",
       "</tbody>\n",
       "</table>\n"
      ],
      "text/latex": [
       "\\begin{tabular}{r|lllllllllll}\n",
       "  & State & region & Date & Home.Value & Structure.Cost & Land.Value & Land.Share..Pct. & Home.Price.Index & Land.Price.Index & Year & Qrtr\\\\\n",
       "\\hline\n",
       "\t1 & AK      & West    & 2010.25 & 224952  & 160599  & 64352   & 28.6    & 1.481   & 1.552   & 2010    & 1      \\\\\n",
       "\t2 & AK     & West   & 2010.5 & 225511 & 160252 & 65259  & 28.9   & 1.484  & 1.576  & 2010   & 2     \\\\\n",
       "\t3 & AK      & West    & 2009.75 & 225820  & 163791  & 62029   & 27.5    & 1.486   & 1.494   & 2009    & 3      \\\\\n",
       "\t4 & AK     & West   & 2010   & 224994 & 161787 & 63207  & 28.1   & 1.481  & 1.524  & 2009   & 4     \\\\\n",
       "\t5 & AK     & West   & 2008   & 234590 & 155400 & 79190  & 33.8   & 1.544  & 1.885  & 2007   & 4     \\\\\n",
       "\t6 & AK      & West    & 2008.25 & 233714  & 157458  & 76256   & 32.6    & 1.538   & 1.817   & 2008    & 1      \\\\\n",
       "\\end{tabular}\n"
      ],
      "text/plain": [
       "  State region    Date Home.Value Structure.Cost Land.Value Land.Share..Pct.\n",
       "1    AK   West 2010.25     224952         160599      64352             28.6\n",
       "2    AK   West 2010.50     225511         160252      65259             28.9\n",
       "3    AK   West 2009.75     225820         163791      62029             27.5\n",
       "4    AK   West 2010.00     224994         161787      63207             28.1\n",
       "5    AK   West 2008.00     234590         155400      79190             33.8\n",
       "6    AK   West 2008.25     233714         157458      76256             32.6\n",
       "  Home.Price.Index Land.Price.Index Year Qrtr\n",
       "1            1.481            1.552 2010    1\n",
       "2            1.484            1.576 2010    2\n",
       "3            1.486            1.494 2009    3\n",
       "4            1.481            1.524 2009    4\n",
       "5            1.544            1.885 2007    4\n",
       "6            1.538            1.817 2008    1"
      ]
     },
     "metadata": {},
     "output_type": "display_data"
    }
   ],
   "source": [
    "housing$Year <- as.numeric(substr(housing$Date, 1,4))\n",
    "housing$Qrtr <- as.numeric(substr(housing$Date,5,5))\n",
    "housing$Date <- housing$Year + housing$Qrtr/4\n",
    "head(housing)"
   ]
  },
  {
   "cell_type": "markdown",
   "metadata": {
    "collapsed": true,
    "slideshow": {
     "slide_type": "slide"
    }
   },
   "source": [
    "## ggplot2 와 기본 그래픽 비교"
   ]
  },
  {
   "cell_type": "markdown",
   "metadata": {
    "slideshow": {
     "slide_type": "subslide"
    }
   },
   "source": [
    "예제: \n",
    "```r\n",
    "hist(housing$Home.Value)\n",
    "```"
   ]
  },
  {
   "cell_type": "code",
   "execution_count": 6,
   "metadata": {
    "collapsed": false,
    "slideshow": {
     "slide_type": "fragment"
    }
   },
   "outputs": [
    {
     "ename": "ERROR",
     "evalue": "Error in grDevices::replayPlot(obj): X11 font -adobe-helvetica-%s-%s-*-*-%d-*-*-*-*-*-*-*, face 2 at size 14 could not be loaded\n",
     "output_type": "error",
     "traceback": [
      "Error in grDevices::replayPlot(obj): X11 font -adobe-helvetica-%s-%s-*-*-%d-*-*-*-*-*-*-*, face 2 at size 14 could not be loaded\nTraceback:\n"
     ]
    },
    {
     "data": {
      "text/plain": [
       "Plot with title “home.value”"
      ]
     },
     "metadata": {},
     "output_type": "display_data"
    }
   ],
   "source": [
    "hist(housing$Home.Value,main=\"home.value\")"
   ]
  },
  {
   "cell_type": "markdown",
   "metadata": {},
   "source": [
    "`ggplot2` histogram 예제\n",
    "```r\n",
    "library(ggplot2)\n",
    "ggplot(housing, aes(x = Home.Value)) +\n",
    "  geom_histogram()\n",
    "```"
   ]
  },
  {
   "cell_type": "code",
   "execution_count": 7,
   "metadata": {
    "collapsed": false
   },
   "outputs": [
    {
     "name": "stderr",
     "output_type": "stream",
     "text": [
      "`stat_bin()` using `bins = 30`. Pick better value with `binwidth`.\n"
     ]
    },
    {
     "data": {},
     "metadata": {},
     "output_type": "display_data"
    },
    {
     "data": {
      "image/png": "[encoded data removed]",
      "text/plain": [
       "plot without title"
      ]
     },
     "metadata": {},
     "output_type": "display_data"
    }
   ],
   "source": [
    "library(ggplot2)\n",
    "ggplot(housing, aes(x=Home.Value)) + geom_histogram()"
   ]
  },
  {
   "cell_type": "code",
   "execution_count": null,
   "metadata": {
    "collapsed": true
   },
   "outputs": [],
   "source": []
  }
 ],
 "metadata": {
  "celltoolbar": "Slideshow",
  "kernelspec": {
   "display_name": "R",
   "language": "R",
   "name": "ir"
  },
  "language_info": {
   "codemirror_mode": "r",
   "file_extension": ".r",
   "mimetype": "text/x-r-source",
   "name": "R",
   "pygments_lexer": "r",
   "version": "3.3.1"
  }
 },
 "nbformat": 4,
 "nbformat_minor": 1
}
