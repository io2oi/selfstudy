{
 "cells": [
  {
   "cell_type": "markdown",
   "metadata": {
    "slideshow": {
     "slide_type": "slide"
    }
   },
   "source": [
    "# Statistical Power 의 개념\n",
    "\n",
    "* 통계에서 power 의 개념을 안다.\n",
    "* 샘플의 크기에 대한 근거를 마련하는 방법을 안다.\n",
    "\n",
    "이 강의에서는 통계에서 테스트의 개념을 설명하고 그 테스트에 따른 에러의 종류와 그에 따른 power 의 개념을 익힌다. 이를 통해 샘플의 크기를 결정하는 방법을 익힌다.\n",
    "\n",
    "\n",
    "jupyter presentation 용입니다. \n",
    "```bash\n",
    "jupyter nbconvert <ipynb> --to slides --post serve\n",
    "```\n",
    "명령어를 실행해 주십시오.\n"
   ]
  },
  {
   "cell_type": "markdown",
   "metadata": {
    "slideshow": {
     "slide_type": "slide"
    }
   },
   "source": [
    "Power 그래프 실례"
   ]
  },
  {
   "cell_type": "code",
   "execution_count": null,
   "metadata": {
    "slideshow": {
     "slide_type": "subslide"
    }
   },
   "outputs": [],
   "source": [
    "import matplotlib.pyplot as plt\n",
    "import scipy.stats as stats\n",
    "\n",
    "N=len(X)\n",
    "n=samplesize\n",
    "mu=0\n",
    "csigma=1\n",
    "tmpx=np.linspace(mu-3*csigma, mu+3*csigma,100)\n",
    "tmpy=stats.norm.pdf(tmpx,mu,csigma)"
   ]
  }
 ],
 "metadata": {
  "celltoolbar": "Slideshow",
  "kernelspec": {
   "display_name": "Python 3",
   "language": "python",
   "name": "python3"
  },
  "language_info": {
   "codemirror_mode": {
    "name": "ipython",
    "version": 3
   },
   "file_extension": ".py",
   "mimetype": "text/x-python",
   "name": "python",
   "nbconvert_exporter": "python",
   "pygments_lexer": "ipython3",
   "version": "3.7.3"
  }
 },
 "nbformat": 4,
 "nbformat_minor": 2
}
