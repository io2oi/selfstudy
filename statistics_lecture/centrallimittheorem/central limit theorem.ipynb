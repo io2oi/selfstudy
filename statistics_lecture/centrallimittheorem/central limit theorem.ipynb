{
 "cells": [
  {
   "cell_type": "markdown",
   "metadata": {
    "slideshow": {
     "slide_type": "slide"
    }
   },
   "source": [
    "# Central limit theorem 중심극한정리\n",
    "\n",
    "중심극한정리가 무엇인지에 대해서 개념을 살펴보고 데이터를 통해서 이해를 하는 것을 목표로 한다.\n",
    "\n",
    "모든 기본 내용은 일반통계학 (김우철, 김재주 공저. 2006년판. pp.158~162) 를 참조 하였다.\n",
    "\n",
    "jupyter presentation 용입니다. \n",
    "```bash\n",
    "jupyter nbconvert <ipynb> --to slides --post serve\n",
    "```\n",
    "명령어를 실행해 주십시오."
   ]
  },
  {
   "cell_type": "markdown",
   "metadata": {
    "slideshow": {
     "slide_type": "subslide"
    }
   },
   "source": [
    "## 표본평균의 표본분포에 관한 성질\n",
    "모집단의 분포가 정규분포 $N(\\mu,\\sigma^2)$ 일 때 표본평균 $\\bar{X}$ 는 정규분포 $N(\\mu,\\frac{\\sigma^2}{n})$ 을 따른다.\n",
    "\n",
    "한편 모집단의 분포가 정규분포가 아닌 경우에는 위의 사실이 성립하지 않는다고 한다. 하지만! 표본의 크기 n 이 충분히 클 때에는 임이의 모집단으로 부터의 표본평균이라 하더라도 그 분포가 정규분포에 가깝다는 것이 알려져 있는데 이것이 중심극한정리이다.\n",
    "\n",
    "즉, \n",
    "평균이 $\\mu$ 이고 분산이 $\\sigma^2$ 인 임의의 `무한모집단` 에서 표본 크기 n 이 충분히 크면, 랜덤표본의 표본평균 $\\bar{X}$ 는 근사적으로 정규분포  $N(\\mu,\\frac{\\sigma^2}{n})$ 를 따른다. 즉\n",
    "\\begin{equation*}\n",
    "\\frac{\\bar{X}-\\mu}{\\frac{\\sigma}{\\sqrt{n}}} \\approx N(0,1)\n",
    "\\end{equation*}\n",
    "\n",
    "`유한모집단`인 경우에도 유사하다.\n",
    "\\begin{equation*}\n",
    "\\frac{\\bar{X}-\\mu}{\\sigma\\sqrt{\\frac{N-n}{n(N-1)}}} \\approx N(0,1)\n",
    "\\end{equation*}\n"
   ]
  },
  {
   "cell_type": "markdown",
   "metadata": {
    "slideshow": {
     "slide_type": "subslide"
    }
   },
   "source": [
    "자 이게 무슨 소리인지 살펴보자. \n",
    "\n",
    "우선 무한 모집단에 가까운 굉장히 큰 임의의 모집단을 만들어 본다.\n",
    "\n",
    "\n"
   ]
  },
  {
   "cell_type": "code",
   "execution_count": 1,
   "metadata": {
    "slideshow": {
     "slide_type": "fragment"
    }
   },
   "outputs": [],
   "source": [
    "import numpy as np\n",
    "import matplotlib.pyplot as plt\n",
    "nnsize=10000\n",
    "x1=np.random.normal(loc=0.0, scale=1.0,size=nnsize)\n",
    "x2=np.random.normal(loc=10.0, scale=2.0,size=nnsize)\n",
    "x3=np.random.normal(loc=30.0, scale=1.5,size=nnsize)"
   ]
  },
  {
   "cell_type": "markdown",
   "metadata": {
    "slideshow": {
     "slide_type": "subslide"
    }
   },
   "source": [
    "어떻게 생긴 모집단인지 살펴본다. 총 30000개의 데이터가 모여있는 세개의 그룹으로 이루어진 데이터이다."
   ]
  },
  {
   "cell_type": "code",
   "execution_count": 2,
   "metadata": {
    "scrolled": true,
    "slideshow": {
     "slide_type": "fragment"
    }
   },
   "outputs": [
    {
     "name": "stdout",
     "output_type": "stream",
     "text": [
      "mean is 13.34410841101087\n"
     ]
    },
    {
     "data": {
      "image/png": "[encoded data removed]",
      "text/plain": [
       "<Figure size 432x288 with 1 Axes>"
      ]
     },
     "metadata": {
      "needs_background": "light"
     },
     "output_type": "display_data"
    }
   ],
   "source": [
    "X=np.append(x1,[x2,x3])\n",
    "n,bins,patch=plt.hist(X,bins=1000)\n",
    "print(\"mean is {}\".format(np.mean(X)))\n",
    "mu=np.mean(X)"
   ]
  },
  {
   "cell_type": "markdown",
   "metadata": {
    "slideshow": {
     "slide_type": "slide"
    }
   },
   "source": [
    "random sampling 을 해 본다.\n",
    "일단 그림으로 이해하기 쉽게 하기 위해서 4개만 1000개의 샘플씩을 샘플링한다."
   ]
  },
  {
   "cell_type": "code",
   "execution_count": 3,
   "metadata": {
    "slideshow": {
     "slide_type": "fragment"
    }
   },
   "outputs": [
    {
     "data": {
      "image/png": "[encoded data removed]",
      "text/plain": [
       "<Figure size 432x288 with 4 Axes>"
      ]
     },
     "metadata": {
      "needs_background": "light"
     },
     "output_type": "display_data"
    }
   ],
   "source": [
    "fig = plt.figure()\n",
    "pcont=[]\n",
    "container=[]\n",
    "samplesize=1000\n",
    "for ii in [1,2,3,4]:\n",
    "    pcont.append(fig.add_subplot(2,2,ii))\n",
    "for ii in [1,2,3,4]:\n",
    "    xp1=np.random.choice(X, size=samplesize)\n",
    "    n,bins,patch=pcont[ii-1].hist(xp1,bins=100)\n",
    "    container.append([np.mean(xp1),np.std(xp1)])"
   ]
  },
  {
   "cell_type": "markdown",
   "metadata": {
    "slideshow": {
     "slide_type": "subslide"
    }
   },
   "source": [
    "그럼 각 sampling 한 표본집단들의 평균들을 구해본다. 각 표본집단의 평균은 $\\bar{X}$ 로 표시한다."
   ]
  },
  {
   "cell_type": "code",
   "execution_count": 4,
   "metadata": {
    "slideshow": {
     "slide_type": "fragment"
    }
   },
   "outputs": [
    {
     "data": {
      "text/plain": [
       "array([13.22693554, 13.3346955 , 13.41587976, ..., 13.23961127,\n",
       "       14.07262508, 13.2949101 ])"
      ]
     },
     "execution_count": 4,
     "metadata": {},
     "output_type": "execute_result"
    }
   ],
   "source": [
    "for ii in range(1000):\n",
    "    xp1=np.random.choice(X, size=samplesize)\n",
    "    container.append([np.mean(xp1),np.std(xp1)])\n",
    "barX=np.array(container)\n",
    "barX[:,0]"
   ]
  },
  {
   "cell_type": "markdown",
   "metadata": {
    "slideshow": {
     "slide_type": "slide"
    }
   },
   "source": [
    "바로 위에서 1000개씩 표본집단을 1000개 만들었다. 이때 각 표본집단의 표본평균 $\\bar{X}$ 1000개의 분포는 과연 어떻게 생겼을까?"
   ]
  },
  {
   "cell_type": "code",
   "execution_count": 5,
   "metadata": {
    "slideshow": {
     "slide_type": "fragment"
    }
   },
   "outputs": [
    {
     "data": {
      "text/plain": [
       "<matplotlib.lines.Line2D at 0x8b3f828>"
      ]
     },
     "execution_count": 5,
     "metadata": {},
     "output_type": "execute_result"
    },
    {
     "data": {
      "image/png": "[encoded data removed]",
      "text/plain": [
       "<Figure size 432x288 with 1 Axes>"
      ]
     },
     "metadata": {
      "needs_background": "light"
     },
     "output_type": "display_data"
    }
   ],
   "source": [
    "n,bins,patch=plt.hist(barX[:,0],bins=20, density=True)\n",
    "plt.axvline(x=mu,color='r')"
   ]
  },
  {
   "cell_type": "markdown",
   "metadata": {
    "slideshow": {
     "slide_type": "slide"
    }
   },
   "source": [
    "위 그림처럼 모평균(붉은색 선) 을 중심으로 하여서 정규분포 비슷한 모양으로 $\\bar{X}$ 들이 분포하고 있음이 관찰 된다.\n",
    "이 위에 모집단의 평균과 분산을 기본으로 한 Normal 평균을 표시하면 다음과 같다.\n",
    "\n",
    "`유한모집단`의 경우는 다음과 같으므로\n",
    "\\begin{equation*}\n",
    "\\frac{\\bar{X}-\\mu}{\\sigma\\sqrt{\\frac{N-n}{n(N-1)}}} \\approx N(0,1)\n",
    "\\end{equation*}\n"
   ]
  },
  {
   "cell_type": "code",
   "execution_count": 16,
   "metadata": {
    "slideshow": {
     "slide_type": "fragment"
    }
   },
   "outputs": [],
   "source": [
    "import scipy.stats as stats\n",
    "N=len(X)\n",
    "n=samplesize\n",
    "csigma=np.std(X)*np.sqrt((N-n)/(n*(N-1)))\n",
    "tmpx=np.linspace(mu-3*csigma, mu+3*csigma,100)\n",
    "#tmpsample=np.random.normal(loc=mu,scale=csigma,)\n",
    "tmpy=stats.norm.pdf(tmpx,mu,csigma)"
   ]
  },
  {
   "cell_type": "code",
   "execution_count": 18,
   "metadata": {
    "slideshow": {
     "slide_type": "fragment"
    }
   },
   "outputs": [
    {
     "data": {
      "text/plain": [
       "[<matplotlib.lines.Line2D at 0xaf89048>]"
      ]
     },
     "execution_count": 18,
     "metadata": {},
     "output_type": "execute_result"
    },
    {
     "data": {
      "image/png": "[encoded data removed]",
      "text/plain": [
       "<Figure size 432x288 with 1 Axes>"
      ]
     },
     "metadata": {
      "needs_background": "light"
     },
     "output_type": "display_data"
    }
   ],
   "source": [
    "n,bins,patch=plt.hist(barX[:,0],bins=20, density=True)\n",
    "plt.axvline(x=mu,color='r')\n",
    "plt.plot(tmpx,tmpy)"
   ]
  },
  {
   "cell_type": "markdown",
   "metadata": {
    "slideshow": {
     "slide_type": "fragment"
    }
   },
   "source": [
    "위 그림처럼 표본들의 평균 $\\bar{X}$ 들의 분포는 모집단의 평균과 분산을 기반으로 한 정규분포에 따라 분포 하는 것이 관찰 된다.\n",
    "\n",
    "다시 말해 표본 집단은 아무렇게나 생겨먹었더라도 `표본집단`의 모양은 `모집단`을 닮게 되어있으며 다만 `표본집단`의 평균들의 분포가 `정규분포`를 따라가게 된다는 뜻이다. "
   ]
  }
 ],
 "metadata": {
  "celltoolbar": "Slideshow",
  "kernelspec": {
   "display_name": "Python 3",
   "language": "python",
   "name": "python3"
  },
  "language_info": {
   "codemirror_mode": {
    "name": "ipython",
    "version": 3
   },
   "file_extension": ".py",
   "mimetype": "text/x-python",
   "name": "python",
   "nbconvert_exporter": "python",
   "pygments_lexer": "ipython3",
   "version": "3.7.3"
  }
 },
 "nbformat": 4,
 "nbformat_minor": 2
}
