{
 "cells": [
  {
   "cell_type": "markdown",
   "metadata": {
    "slideshow": {
     "slide_type": "slide"
    }
   },
   "source": [
    "# 나는 책임이 없다\n",
    "시작하기 전에 말하자면 나는 수학자도 아니며 통계학자도 아니다. 여기에 설명하는 것은 선배가 후배에게 이런 것이 있다 정도를 알려주기 위함이니 여기 있는 내용을 이해 했다고 하여 다 알았다고 생각해서도 안 되며 틀린 것을 발견했다고 하여 전체 내용이 문제있다고 봐서도 안 된다"
   ]
  },
  {
   "cell_type": "markdown",
   "metadata": {
    "slideshow": {
     "slide_type": "slide"
    }
   },
   "source": [
    "## 우선 고유값, 고유벡터에 대해서 알아보고나 가자\n",
    "고유값 (eigenvalue), 고유벡터 (eigenvector) 라는 개념\n"
   ]
  },
  {
   "cell_type": "markdown",
   "metadata": {
    "slideshow": {
     "slide_type": "subslide"
    }
   },
   "source": [
    "# 행렬식으로 본 고유값\n"
   ]
  },
  {
   "cell_type": "markdown",
   "metadata": {
    "slideshow": {
     "slide_type": "slide"
    }
   },
   "source": [
    "# PCA 를 한번 봐보자"
   ]
  },
  {
   "cell_type": "code",
   "execution_count": 1,
   "metadata": {
    "slideshow": {
     "slide_type": "subslide"
    }
   },
   "outputs": [],
   "source": [
    "# 코드 예제\n",
    "\n",
    "import numpy as np\n"
   ]
  },
  {
   "cell_type": "markdown",
   "metadata": {
    "slideshow": {
     "slide_type": "slide"
    }
   },
   "source": [
    "# PCA 와 SVD 의 관계는 무엇인가?\n",
    "나도 잘 모른다 그냥 그리스 신화와 로마 신화의 관계 같다고나 할까 그 신이 그 신이고 이 신이 이 신인데 이름만 이랬다가 저랬다가 같은 것?\n",
    "즉 고유갑=특이값, 고유벡터=특이벡터 ??"
   ]
  },
  {
   "cell_type": "markdown",
   "metadata": {
    "slideshow": {
     "slide_type": "slide"
    }
   },
   "source": [
    "# 우리에게 가장 친숙한 예로 마쳐보자\n",
    "svd 를 이용한 CNV 분석의 의미"
   ]
  }
 ],
 "metadata": {
  "celltoolbar": "Slideshow",
  "kernelspec": {
   "display_name": "Python 3",
   "language": "python",
   "name": "python3"
  },
  "language_info": {
   "codemirror_mode": {
    "name": "ipython",
    "version": 3
   },
   "file_extension": ".py",
   "mimetype": "text/x-python",
   "name": "python",
   "nbconvert_exporter": "python",
   "pygments_lexer": "ipython3",
   "version": "3.6.4"
  }
 },
 "nbformat": 4,
 "nbformat_minor": 2
}
